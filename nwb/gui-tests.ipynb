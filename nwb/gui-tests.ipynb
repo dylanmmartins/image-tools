{
 "cells": [
  {
   "cell_type": "code",
   "execution_count": 1,
   "id": "81254148-145f-49c7-b17b-4c1a009909ae",
   "metadata": {},
   "outputs": [],
   "source": [
    "import PySimpleGUI as sg"
   ]
  },
  {
   "cell_type": "code",
   "execution_count": 2,
   "id": "5e3a08fb-3901-4dee-88d4-487bfa4958a3",
   "metadata": {},
   "outputs": [],
   "source": [
    "sname = 'example_sname'\n",
    "\n",
    "csp = {\n",
    "    'sname': sname,\n",
    "    'experimenter': None,\n",
    "    'lab': None,\n",
    "    'institution': None,\n",
    "    'session_description': None,\n",
    "    'experiment_description': None,\n",
    "    'subject': None,\n",
    "    'sex': None,\n",
    "    'genotype': None,\n",
    "    'dob': None,\n",
    "    'doi': None,\n",
    "    'frame_Hz': None,\n",
    "    't0_sec': None,\n",
    "    'scan_line_rate': None,\n",
    "    'exc_lambda': None,\n",
    "    'indicator': None,\n",
    "    'location': None,\n",
    "    'grid_spacing': None,\n",
    "    'grid_units': None,\n",
    "    'tif_list': None\n",
    "}"
   ]
  },
  {
   "cell_type": "code",
   "execution_count": 6,
   "id": "6763a2cb-e433-45f5-a2c8-43f8572b54fd",
   "metadata": {},
   "outputs": [],
   "source": [
    "new = csp.copy()"
   ]
  },
  {
   "cell_type": "code",
   "execution_count": 5,
   "id": "41222bd7-bf0d-42b2-9b72-00599ce1591e",
   "metadata": {},
   "outputs": [],
   "source": [
    "layout = [\n",
    "    [sg.Text('Summary', font='_ 14'), sg.Push(), sg.VerticalSeparator()],\n",
    "\n",
    "    [sg.Text('Session name'),\n",
    "     sg.Input(key='session-name', default_text=csp['sname'], enable_events=True),\n",
    "     sg.Button('Apply to Multiple', key='am-session-name', enable_events=True)],\n",
    "\n",
    "    [sg.Text('Experimenter'),\n",
    "     sg.Input(key='experimenter', default_text=csp['experimenter'], enable_events=True),\n",
    "     sg.Button('Apply to Multiple', key='am-experimenter', enable_events=True)],\n",
    "\n",
    "    [sg.Text('Lab'),\n",
    "     sg.Input(key='lab', default_text=csp['lab'], enable_events=True),\n",
    "     sg.Button('Apply to Multiple', key='am-doi', enable_events=True)],\n",
    "\n",
    "    [sg.Text('Institution'),\n",
    "     sg.Input(key='institution', default_text=csp['institution'], enable_events=True),\n",
    "     sg.Button('Apply to Multiple', key='am-doi', enable_events=True)],\n",
    "\n",
    "    [sg.Text('Session description'),\n",
    "     sg.Input(key='session-description', default_text=csp['session_description'], enable_events=True),\n",
    "     sg.Button('Apply to Multiple', key='am-doi', enable_events=True)],\n",
    "\n",
    "    [sg.Text('Experiment description'),\n",
    "     sg.Input(key='experiment-description', default_text=csp['experiment_description'], enable_events=True),\n",
    "     sg.Button('Apply to Multiple', key='am-doi', enable_events=True)],\n",
    "\n",
    "    [sg.Text('DOI'),\n",
    "     sg.Input(key='doi', default_text=csp['doi'], enable_events=True),\n",
    "     sg.Button('Apply to Multiple', key='am-doi', enable_events=True)],\n",
    "\n",
    "    [sg.HorizontalSeparator()],\n",
    "\n",
    "    [sg.Text('Subject', font='_ 14'), sg.Push()],\n",
    "\n",
    "    [sg.Text('Subject Name'),\n",
    "     sg.Input(key='subject-name', default_text=csp['subject'], enable_events=True)],\n",
    "\n",
    "    [sg.Text('Sex'),\n",
    "     sg.Combo(values=('N/A','F','M'), default_value=csp['sex'], readonly=False, k='sex', enable_events=True)],\n",
    "\n",
    "    [sg.Text('Genotype'),\n",
    "     sg.Input(key='genotype', default_text=csp['genotype'], enable_events=True)],\n",
    "\n",
    "    [sg.Text('Date of birth (YYMMDD)'),\n",
    "     sg.Input(key='genotype', default_text=csp['dob'], enable_events=True)],\n",
    "    \n",
    "    [sg.HorizontalSeparator()],\n",
    "\n",
    "    [sg.Text('TwoPhoton', font='_ 14'), sg.Push()],\n",
    "    \n",
    "    [sg.Text('Frame rate (Hz)'),\n",
    "     sg.Input(key='genotype', default_text=csp['frame_Hz'], enable_events=True)],\n",
    "\n",
    "    [sg.Text('time 0 (sec)'),\n",
    "     sg.Input(key='genotype', default_text=csp['t0_sec'], enable_events=True)],\n",
    "\n",
    "    [sg.Text('Line scan rate (Hz)'),\n",
    "     sg.Input(key='genotype', default_text=csp['scan_line_rate'], enable_events=True)],\n",
    "    \n",
    "    [sg.Text('Excitation wavelength (nm)'),\n",
    "     sg.Input(key='genotype', default_text=csp['exc_lambda'], enable_events=True)],\n",
    "    \n",
    "    [sg.Text('Fluorescent indicator'),\n",
    "     sg.Input(key='genotype', default_text=csp['indicator'], enable_events=True)],\n",
    "    \n",
    "    [sg.Text('Locaiton in brain'),\n",
    "     sg.Input(key='genotype', default_text=csp['location'], enable_events=True)],\n",
    "    \n",
    "    [sg.Text('Image grid spacing'),\n",
    "     sg.Input(key='genotype', default_text=csp['grid_spacing'], enable_events=True)],\n",
    "    \n",
    "    [sg.Text('Image grid spacing units'),\n",
    "     sg.Input(key='genotype', default_text=csp['grid_units'], enable_events=True)],\n",
    "    \n",
    "    [sg.Text('--'),\n",
    "     sg.Input(key='genotype', default_text=csp['tif_list'], enable_events=True)],\n",
    "    \n",
    "    [sg.Text('Image grid spacing units'),\n",
    "     sg.Input(key='genotype', default_text=csp['grid_units'], enable_events=True)],\n",
    "]\n",
    "\n",
    "# layout = [sg.Col(col1, p=0), sg.VerticalSeparator(), sg.Col(col2, p=0)]\n",
    "\n",
    "w = sg.Window(sname, layout, element_justification='r')\n",
    "\n",
    "while True:\n",
    "    event, values = w.read(timeout=100)\n",
    "\n",
    "    if event in (None, 'Exit'):\n",
    "        break\n"
   ]
  },
  {
   "cell_type": "code",
   "execution_count": 11,
   "id": "f4efe993-dba8-4067-a72a-fad10527bdd7",
   "metadata": {},
   "outputs": [],
   "source": [
    "import numpy as np"
   ]
  },
  {
   "cell_type": "code",
   "execution_count": 37,
   "id": "e91d605c-5536-437c-9af6-32651c308c89",
   "metadata": {},
   "outputs": [
    {
     "name": "stdout",
     "output_type": "stream",
     "text": [
      "a\n",
      "a\n",
      "a\n",
      "f\n"
     ]
    }
   ],
   "source": [
    "slist = ['a', 'b', 'c', 'd', 'e', 'f']\n",
    "\n",
    "layout = [\n",
    "    [sg.Listbox(slist, enable_events=True, default_values=slist[0], select_mode='LISTBOX_SELECT_MODE_SINGLE', size=(40,15), key='option')],\n",
    "    [sg.Button('Edit', key='edit', enable_events=True),\n",
    "     sg.Button('Next', key='next', enable_events=True)],\n",
    "    \n",
    "    [sg.HorizontalSeparator()],\n",
    "    [sg.Button('Write metadata yaml', key='yaml', enable_events=True),\n",
    "     sg.Button('Write NWB hdf', key='nwb', enable_events=True)]\n",
    "]\n",
    "\n",
    "w = sg.Window('Review Sessions', layout, element_justification='c')\n",
    "\n",
    "while True:\n",
    "    event, values = w.read(timeout=100)\n",
    "\n",
    "    if event in (None, 'Exit'):\n",
    "        break\n",
    "        \n",
    "    if event=='edit':\n",
    "        w.disable()\n",
    "        print(values['option'][0])\n",
    "        w.update\n",
    "        w.enable()\n",
    "    \n",
    "    if event=='next':\n",
    "        # set_new = slist[[i for i in range(len(slist)) if slist[i]==values['option']][0]+1]\n",
    "        set_new = w['option'].get_indexes()[0]+1\n",
    "        print(set_new)\n",
    "        w['option'].update(set_to_index=set_new)\n",
    "        \n",
    "    if event=='yaml':\n",
    "        print('yaml')\n",
    "        \n",
    "    if event=='nwb':\n",
    "        \n",
    "        print('nwb')"
   ]
  },
  {
   "cell_type": "code",
   "execution_count": 25,
   "id": "3ac9470e-8d17-4c67-9bc4-62e7a06ba9a3",
   "metadata": {},
   "outputs": [
    {
     "data": {
      "text/plain": [
       "'b'"
      ]
     },
     "execution_count": 25,
     "metadata": {},
     "output_type": "execute_result"
    }
   ],
   "source": []
  },
  {
   "cell_type": "code",
   "execution_count": null,
   "id": "15ee39c7-e7f5-42b4-b89f-f55e30d84d18",
   "metadata": {},
   "outputs": [],
   "source": []
  }
 ],
 "metadata": {
  "kernelspec": {
   "display_name": "Python [conda env:nwb0]",
   "language": "python",
   "name": "conda-env-nwb0-py"
  },
  "language_info": {
   "codemirror_mode": {
    "name": "ipython",
    "version": 3
   },
   "file_extension": ".py",
   "mimetype": "text/x-python",
   "name": "python",
   "nbconvert_exporter": "python",
   "pygments_lexer": "ipython3",
   "version": "3.8.16"
  }
 },
 "nbformat": 4,
 "nbformat_minor": 5
}
