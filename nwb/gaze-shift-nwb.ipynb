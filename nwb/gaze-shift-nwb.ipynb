{
 "cells": [
  {
   "cell_type": "code",
   "execution_count": 3,
   "id": "28a77b51-d4a1-4312-b94b-04080fe31614",
   "metadata": {},
   "outputs": [],
   "source": [
    "import numpy as np\n",
    "\n",
    "import pynwb\n",
    "from pynwb import NWBFile, TimeSeries, NWBHDF5IO\n",
    "from pynwb.image import ImageSeries\n",
    "from pynwb.ophys import TwoPhotonSeries\n",
    "from pynwb.ecephys import ElectricalSeries, LFP"
   ]
  },
  {
   "cell_type": "code",
   "execution_count": 13,
   "id": "dbc1c9df-0445-4ecf-9860-fbd6eb8a8c51",
   "metadata": {},
   "outputs": [
    {
     "name": "stdout",
     "output_type": "stream",
     "text": [
      "Loading DLC 2.3.0...\n",
      "DLC loaded in light mode; you cannot use any GUI (labeling, relabeling and standalone GUI)\n"
     ]
    }
   ],
   "source": [
    "import fmEphys as fme"
   ]
  },
  {
   "cell_type": "code",
   "execution_count": 14,
   "id": "b29fa6ad-4ee5-4a6b-aced-736195e00d15",
   "metadata": {},
   "outputs": [],
   "source": [
    "ltdk = fme.read_group_h5(r'C:\\Users\\dmartins\\Documents\\Dropbox\\Research\\Niell_lab\\Data\\Gaze_shift_data\\Mouse\\complete_dataset\\ltdk_021423_figupdate.h5')"
   ]
  },
  {
   "cell_type": "code",
   "execution_count": 15,
   "id": "cc2875bd-d83b-4a4e-8c87-269d7b02003b",
   "metadata": {},
   "outputs": [
    {
     "data": {
      "text/plain": [
       "array(['020322_J577TT_control_Rig2', '020522_J577RT_control_Rig2',\n",
       "       '100821_J559TT_control_Rig2', '101621_J559NC_control_Rig2',\n",
       "       '102721_J558NC_control_Rig2', '110421_J558LT_control_Rig2',\n",
       "       '110521_J569LT_control_Rig2'], dtype=object)"
      ]
     },
     "execution_count": 15,
     "metadata": {},
     "output_type": "execute_result"
    }
   ],
   "source": [
    "ltdk['session'].unique()"
   ]
  },
  {
   "cell_type": "code",
   "execution_count": null,
   "id": "26c29bd0-6029-4344-96cf-338a3378c0db",
   "metadata": {},
   "outputs": [],
   "source": [
    "# M, M, M, M, F, F, M"
   ]
  },
  {
   "cell_type": "code",
   "execution_count": 16,
   "id": "e0c57278-b136-43db-ba9e-905801c6b230",
   "metadata": {},
   "outputs": [],
   "source": [
    "row = ltdk[ltdk['session']=='020322_J577TT_control_Rig2'].iloc[0].copy()"
   ]
  },
  {
   "cell_type": "code",
   "execution_count": null,
   "id": "b6fcb808-e062-4b85-a679-337e518de7d3",
   "metadata": {},
   "outputs": [],
   "source": [
    "row['']"
   ]
  },
  {
   "cell_type": "code",
   "execution_count": 17,
   "id": "59948a81-759e-4b10-996c-73d675f4513c",
   "metadata": {},
   "outputs": [
    {
     "data": {
      "text/plain": [
       "41336.927116"
      ]
     },
     "execution_count": 17,
     "metadata": {},
     "output_type": "execute_result"
    }
   ],
   "source": [
    "row['t0']"
   ]
  },
  {
   "cell_type": "code",
   "execution_count": 20,
   "id": "bbe5835f-37c9-42c5-93cc-1ac7d57130d7",
   "metadata": {},
   "outputs": [],
   "source": [
    "from datetime import datetime"
   ]
  },
  {
   "cell_type": "code",
   "execution_count": 22,
   "id": "5b015116-7704-4af7-96ef-775a9d4ac58a",
   "metadata": {},
   "outputs": [
    {
     "data": {
      "text/plain": [
       "datetime.date(2023, 2, 20)"
      ]
     },
     "execution_count": 22,
     "metadata": {},
     "output_type": "execute_result"
    }
   ],
   "source": [
    "row['t0']"
   ]
  },
  {
   "cell_type": "code",
   "execution_count": 27,
   "id": "73b822ee-97d0-4bf8-b1eb-33e134c5a22f",
   "metadata": {},
   "outputs": [
    {
     "data": {
      "text/plain": [
       "41336.927116"
      ]
     },
     "execution_count": 27,
     "metadata": {},
     "output_type": "execute_result"
    }
   ],
   "source": [
    "row['t0']"
   ]
  },
  {
   "cell_type": "code",
   "execution_count": 26,
   "id": "73a181c5-4858-4c59-b2d1-ebad0b9f8994",
   "metadata": {},
   "outputs": [
    {
     "ename": "TypeError",
     "evalue": "descriptor 'time' of 'datetime.datetime' object needs an argument",
     "output_type": "error",
     "traceback": [
      "\u001b[1;31m---------------------------------------------------------------------------\u001b[0m",
      "\u001b[1;31mTypeError\u001b[0m                                 Traceback (most recent call last)",
      "Cell \u001b[1;32mIn [26], line 1\u001b[0m\n\u001b[1;32m----> 1\u001b[0m \u001b[43mdatetime\u001b[49m\u001b[38;5;241;43m.\u001b[39;49m\u001b[43mtime\u001b[49m\u001b[43m(\u001b[49m\u001b[43msecond\u001b[49m\u001b[38;5;241;43m=\u001b[39;49m\u001b[43mrow\u001b[49m\u001b[43m[\u001b[49m\u001b[38;5;124;43m'\u001b[39;49m\u001b[38;5;124;43mt0\u001b[39;49m\u001b[38;5;124;43m'\u001b[39;49m\u001b[43m]\u001b[49m\u001b[43m)\u001b[49m\n",
      "\u001b[1;31mTypeError\u001b[0m: descriptor 'time' of 'datetime.datetime' object needs an argument"
     ]
    }
   ],
   "source": [
    "datetime.time(second=row['t0'])"
   ]
  },
  {
   "cell_type": "code",
   "execution_count": 25,
   "id": "7586ec06-0f62-425d-b94c-0bb3c5806583",
   "metadata": {},
   "outputs": [
    {
     "ename": "TypeError",
     "evalue": "strptime() argument 1 must be str, not numpy.float64",
     "output_type": "error",
     "traceback": [
      "\u001b[1;31m---------------------------------------------------------------------------\u001b[0m",
      "\u001b[1;31mTypeError\u001b[0m                                 Traceback (most recent call last)",
      "Cell \u001b[1;32mIn [25], line 1\u001b[0m\n\u001b[1;32m----> 1\u001b[0m datetime\u001b[38;5;241m.\u001b[39mstrptime(\u001b[38;5;124m'\u001b[39m\u001b[38;5;124m020322\u001b[39m\u001b[38;5;124m'\u001b[39m, \u001b[38;5;124m'\u001b[39m\u001b[38;5;124m%\u001b[39m\u001b[38;5;124mm\u001b[39m\u001b[38;5;132;01m%d\u001b[39;00m\u001b[38;5;124m%\u001b[39m\u001b[38;5;124my\u001b[39m\u001b[38;5;124m'\u001b[39m) \u001b[38;5;241m+\u001b[39m \u001b[43mdatetime\u001b[49m\u001b[38;5;241;43m.\u001b[39;49m\u001b[43mstrptime\u001b[49m\u001b[43m(\u001b[49m\u001b[43mrow\u001b[49m\u001b[43m[\u001b[49m\u001b[38;5;124;43m'\u001b[39;49m\u001b[38;5;124;43mt0\u001b[39;49m\u001b[38;5;124;43m'\u001b[39;49m\u001b[43m]\u001b[49m\u001b[43m,\u001b[49m\u001b[43m \u001b[49m\u001b[38;5;124;43m'\u001b[39;49m\u001b[38;5;132;43;01m%f\u001b[39;49;00m\u001b[38;5;124;43m'\u001b[39;49m\u001b[43m)\u001b[49m\n",
      "\u001b[1;31mTypeError\u001b[0m: strptime() argument 1 must be str, not numpy.float64"
     ]
    }
   ],
   "source": [
    "datetime.strptime('020322', '%m%d%y') + "
   ]
  },
  {
   "cell_type": "code",
   "execution_count": null,
   "id": "8dcb0dc7-3476-4c8c-9678-4611066f8f73",
   "metadata": {},
   "outputs": [],
   "source": [
    "nwbfile = NWBFile(\n",
    "    identifier ='020322_J577TT_HfWn',\n",
    "    session_start_time = row['t0'],\n",
    "    file_create_date = datetime.today().date()\n",
    "    \n",
    "    session_description=\"my first synthetic recording\",\n",
    "    session_start_time=datetime.now(tzlocal()),\n",
    "    experimenter=\"\",\n",
    "    session_start_time=\"\"\n",
    "    file_create_date=\n",
    "    lab=\"Niell lab\",\n",
    "    institution=\"University of Oregon\",\n",
    "    experiment_description=\"I went on an adventure with thirteen dwarves\",\n",
    "    session_id=\"LONELYMTN\",\n",
    "    related_publications=\n",
    "    stimulus_notes=\n",
    "    subject = pynwb.file.Subject(\n",
    "            subject_id='J577TT',\n",
    "            sex='M',\n",
    "            species='Mouse'\n",
    "        )\n",
    "    units=\n",
    "    lab_meta_data=-\n",
    ")"
   ]
  },
  {
   "cell_type": "code",
   "execution_count": null,
   "id": "dbf319da-2793-4348-9f5b-4cedf2661386",
   "metadata": {},
   "outputs": [],
   "source": [
    "nwbfile.subject = Subject(\n",
    "    subject_id=\"001\",\n",
    "    age=\"P90D\",\n",
    "    description=\"mouse 5\",\n",
    "    species=\"Mus musculus\",\n",
    "    sex=\"M\",\n",
    ")"
   ]
  },
  {
   "cell_type": "code",
   "execution_count": null,
   "id": "0bfe41d6-7bf6-4f2c-810d-3474c61f55b7",
   "metadata": {},
   "outputs": [],
   "source": []
  },
  {
   "cell_type": "code",
   "execution_count": null,
   "id": "0bb3fab8-b921-46e0-832a-3b1cf3518827",
   "metadata": {},
   "outputs": [],
   "source": [
    "device = nwbfile.create_device(\n",
    "    name=\"array\", description=\"the best array\", manufacturer=\"Probe Company 9000\"\n",
    ")"
   ]
  },
  {
   "cell_type": "code",
   "execution_count": null,
   "id": "1915b861-ebed-4872-9d6b-0196ce6d4a95",
   "metadata": {},
   "outputs": [],
   "source": [
    "nwbfile.add_electrode_column(name=\"label\", description=\"label of electrode\")\n",
    "\n",
    "nshanks = 4\n",
    "nchannels_per_shank = 3\n",
    "electrode_counter = 0\n",
    "\n",
    "for ishank in range(nshanks):\n",
    "    # create an electrode group for this shank\n",
    "    electrode_group = nwbfile.create_electrode_group(\n",
    "        name=\"shank{}\".format(ishank),\n",
    "        description=\"electrode group for shank {}\".format(ishank),\n",
    "        device=device,\n",
    "        location=\"brain area\",\n",
    "    )\n",
    "    # add electrodes to the electrode table\n",
    "    for ielec in range(nchannels_per_shank):\n",
    "        nwbfile.add_electrode(\n",
    "            group=electrode_group,\n",
    "            label=\"shank{}elec{}\".format(ishank, ielec),\n",
    "            location=\"brain area\",\n",
    "        )\n",
    "        electrode_counter += 1"
   ]
  },
  {
   "cell_type": "code",
   "execution_count": null,
   "id": "f9588368-5d86-4ef5-985f-67fad42f6183",
   "metadata": {},
   "outputs": [],
   "source": [
    "nwbfile.electrodes.to_dataframe()"
   ]
  },
  {
   "cell_type": "code",
   "execution_count": null,
   "id": "eadb8c4e-ec93-40eb-8194-db79070d78e9",
   "metadata": {},
   "outputs": [],
   "source": [
    "all_table_region = nwbfile.create_electrode_table_region(\n",
    "    region=list(range(electrode_counter)),  # reference row indices 0 to N-1\n",
    "    description=\"all electrodes\",\n",
    ")"
   ]
  },
  {
   "cell_type": "code",
   "execution_count": null,
   "id": "1fcc9111-8866-43df-a1d7-f7f0ed01147a",
   "metadata": {},
   "outputs": [],
   "source": [
    "raw_data = np.random.randn(50, 4)\n",
    "raw_electrical_series = ElectricalSeries(\n",
    "    name=\"ElectricalSeries\",\n",
    "    data=raw_data,\n",
    "    electrodes=all_table_region,\n",
    "    starting_time=0.0,  # timestamp of the first sample in seconds relative to the session start time\n",
    "    rate=20000.0,  # in Hz\n",
    ")"
   ]
  },
  {
   "cell_type": "code",
   "execution_count": null,
   "id": "26330bc7-658f-4633-9b81-e9635720b542",
   "metadata": {},
   "outputs": [],
   "source": [
    "nwbfile.add_acquisition(raw_electrical_series)"
   ]
  },
  {
   "cell_type": "code",
   "execution_count": null,
   "id": "8e69ea04-79c2-419d-b25a-0ac1aa84eae0",
   "metadata": {},
   "outputs": [],
   "source": [
    "lfp_data = np.random.randn(50, 4)\n",
    "lfp_electrical_series = ElectricalSeries(\n",
    "    name=\"ElectricalSeries\",\n",
    "    data=lfp_data,\n",
    "    electrodes=all_table_region,\n",
    "    starting_time=0.0,\n",
    "    rate=200.0,\n",
    ")"
   ]
  },
  {
   "cell_type": "code",
   "execution_count": null,
   "id": "ec4e6a02-67bb-4284-811c-9dd0d71bbce5",
   "metadata": {},
   "outputs": [],
   "source": [
    "lfp = LFP(electrical_series=lfp_electrical_series)"
   ]
  },
  {
   "cell_type": "code",
   "execution_count": null,
   "id": "e5e98e40-ff83-4d3b-b973-236d7833b1f0",
   "metadata": {},
   "outputs": [],
   "source": [
    "ecephys_module = nwbfile.create_processing_module(\n",
    "    name=\"ecephys\", description=\"processed extracellular electrophysiology data\"\n",
    ")\n",
    "ecephys_module.add(lfp)"
   ]
  },
  {
   "cell_type": "code",
   "execution_count": null,
   "id": "b3e03dc7-279c-4e0f-8f7e-7093917a4e67",
   "metadata": {},
   "outputs": [],
   "source": [
    "nwbfile.add_unit_column(name=\"quality\", description=\"sorting quality\")\n",
    "\n",
    "poisson_lambda = 20\n",
    "firing_rate = 20\n",
    "n_units = 10\n",
    "for n_units_per_shank in range(n_units):\n",
    "    n_spikes = np.random.poisson(lam=poisson_lambda)\n",
    "    spike_times = np.round(\n",
    "        np.cumsum(np.random.exponential(1 / firing_rate, n_spikes)), 5\n",
    "    )\n",
    "    nwbfile.add_unit(\n",
    "        spike_times=spike_times, quality=\"good\", waveform_mean=[1.0, 2.0, 3.0, 4.0, 5.0]\n",
    "    )\n",
    "\n",
    "nwbfile.units.to_dataframe()"
   ]
  },
  {
   "cell_type": "code",
   "execution_count": null,
   "id": "319ef9ae-2b73-4f85-afdf-6780ecb7e4d7",
   "metadata": {},
   "outputs": [],
   "source": [
    "with NWBHDF5IO(\"ecephys_tutorial.nwb\", \"w\") as io:\n",
    "    io.write(nwbfile)"
   ]
  },
  {
   "cell_type": "markdown",
   "id": "ee368c0a-c83b-49bb-a88b-99c8f3ff816f",
   "metadata": {},
   "source": [
    "## behavior data"
   ]
  },
  {
   "cell_type": "code",
   "execution_count": null,
   "id": "ffea17f0-82d9-4fd3-9d60-c00c702baecb",
   "metadata": {},
   "outputs": [],
   "source": [
    "timestamps = np.linspace(0, 50) / 200\n",
    "\n",
    "position_spatial_series = SpatialSeries(\n",
    "    name=\"SpatialSeries\",\n",
    "    description=\"Position (x, y) in an open field.\",\n",
    "    data=position_data,\n",
    "    timestamps=timestamps,\n",
    "    reference_frame=\"(0,0) is bottom left corner\",\n",
    ")\n",
    "\n",
    "position_spatial_series"
   ]
  },
  {
   "cell_type": "code",
   "execution_count": null,
   "id": "afbb46cd-8391-4a96-b682-18cc9f2d5bf4",
   "metadata": {},
   "outputs": [],
   "source": [
    "speed_time_series = TimeSeries(\n",
    "    name=\"speed\",\n",
    "    data=speed_data,\n",
    "    timestamps=timestamps,\n",
    "    description=\"The speed of the subject measured over time.\",\n",
    "    unit=\"m/s\",\n",
    ")\n",
    "\n",
    "behavioral_time_series = BehavioralTimeSeries(\n",
    "    time_series=speed_time_series,\n",
    "    name=\"BehavioralTimeSeries\",\n",
    ")\n",
    "\n",
    "behavior_module.add(behavioral_time_series)"
   ]
  },
  {
   "cell_type": "code",
   "execution_count": null,
   "id": "5a9dd006-369a-4f9d-be5c-9fe912c2c2d1",
   "metadata": {},
   "outputs": [],
   "source": [
    "reward_amount = [1., 1.5, 1., 1.5]\n",
    "events_timestamps = [1., 2., 5., 6.]\n",
    "\n",
    "time_series = TimeSeries(\n",
    "    name=\"lever_presses\",\n",
    "    data=reward_amount,\n",
    "    timestamps=events_timestamps,\n",
    "    description=\"The water amount the subject received as a reward.\",\n",
    "    unit=\"ml\",\n",
    ")\n",
    "\n",
    "behavioral_events = BehavioralEvents(time_series=time_series, name=\"BehavioralEvents\")\n",
    "\n",
    "behavior_module.add(behavioral_events)"
   ]
  },
  {
   "cell_type": "code",
   "execution_count": null,
   "id": "6639f399-5b7f-41d1-8fb1-eb56c7d6ea25",
   "metadata": {},
   "outputs": [],
   "source": [
    "run_intervals = IntervalSeries(\n",
    "    name=\"running\",\n",
    "    description=\"Intervals when the animal was running.\",\n",
    "    data=[1, -1, 1, -1, 1, -1],\n",
    "    timestamps=[0.5, 1.5, 3.5, 4.0, 7.0, 7.3],\n",
    ")\n",
    "\n",
    "behavioral_epochs = BehavioralEpochs(name=\"BehavioralEpochs\")\n",
    "\n",
    "behavioral_epochs.add_interval_series(run_intervals)"
   ]
  },
  {
   "cell_type": "code",
   "execution_count": null,
   "id": "546d242a-4c3d-46eb-aa31-1aa36121ada0",
   "metadata": {},
   "outputs": [],
   "source": [
    "pupil_diameter = TimeSeries(\n",
    "    name=\"pupil_diameter\",\n",
    "    description=\"Pupil diameter extracted from the video of the right eye.\",\n",
    "    data=np.linspace(0.001, 0.002, 50),\n",
    "    timestamps=timestamps,\n",
    "    unit=\"meters\",\n",
    ")\n",
    "\n",
    "pupil_tracking = PupilTracking(time_series=pupil_diameter, name=\"PupilTracking\")\n",
    "\n",
    "behavior_module.add(pupil_tracking)"
   ]
  },
  {
   "cell_type": "code",
   "execution_count": null,
   "id": "8756a496-b30f-4056-af74-cd02164c8c23",
   "metadata": {},
   "outputs": [],
   "source": [
    "right_eye_position = np.linspace(-20, 30, 50)\n",
    "\n",
    "right_eye_positions = SpatialSeries(\n",
    "    name=\"right_eye_position\",\n",
    "    description=\"The position of the right eye measured in degrees.\",\n",
    "    data=right_eye_position,\n",
    "    timestamps=timestamps,\n",
    "    reference_frame=\"bottom left\",\n",
    "    unit=\"degrees\",\n",
    ")\n",
    "\n",
    "eye_tracking = EyeTracking(name=\"EyeTracking\", spatial_series=right_eye_positions)"
   ]
  },
  {
   "cell_type": "code",
   "execution_count": null,
   "id": "37116b62-3cd0-40a5-85c1-9d02becd3f60",
   "metadata": {},
   "outputs": [],
   "source": [
    "image_data = np.random.randint(low=0, high=255, size=(200, 50, 50, 3), dtype=np.uint8)\n",
    "behavior_images = ImageSeries(\n",
    "    name=\"ImageSeries\",\n",
    "    data=image_data,\n",
    "    description=\"Image data of an animal moving in environment.\",\n",
    "    unit=\"n.a.\",\n",
    "    format=\"raw\",\n",
    "    rate=1.0,\n",
    "    starting_time=0.0,\n",
    ")\n",
    "\n",
    "nwbfile.add_acquisition(behavior_images)"
   ]
  }
 ],
 "metadata": {
  "kernelspec": {
   "display_name": "Python [conda env:ephys1-nwb]",
   "language": "python",
   "name": "conda-env-ephys1-nwb-py"
  },
  "language_info": {
   "codemirror_mode": {
    "name": "ipython",
    "version": 3
   },
   "file_extension": ".py",
   "mimetype": "text/x-python",
   "name": "python",
   "nbconvert_exporter": "python",
   "pygments_lexer": "ipython3",
   "version": "3.8.13"
  }
 },
 "nbformat": 4,
 "nbformat_minor": 5
}
